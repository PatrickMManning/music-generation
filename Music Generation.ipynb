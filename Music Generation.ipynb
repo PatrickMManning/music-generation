{
 "cells": [
  {
   "cell_type": "markdown",
   "metadata": {},
   "source": [
    "# Music Generation"
   ]
  },
  {
   "cell_type": "code",
   "execution_count": 133,
   "metadata": {
    "collapsed": true
   },
   "outputs": [],
   "source": [
    "import pyaudio\n",
    "import math\n",
    "from numpy import fromstring,linspace,sin,pi,int8,int16,rint,sign,arcsin,tan,arctan,cos,append,multiply,add,subtract,divide,repeat,random,clip,fft,zeros,cumsum,minimum,concatenate,transpose,ascontiguousarray,vstack,copy\n",
    "import time\n",
    "import pandas as pd\n",
    "from enum import Enum\n",
    "from scipy.io import wavfile\n",
    "from scipy.signal import stft,istft\n",
    "import sounddevice as sd"
   ]
  },
  {
   "cell_type": "code",
   "execution_count": 3,
   "metadata": {
    "collapsed": true
   },
   "outputs": [],
   "source": [
    "%matplotlib inline"
   ]
  },
  {
   "cell_type": "code",
   "execution_count": 4,
   "metadata": {
    "collapsed": true
   },
   "outputs": [],
   "source": [
    "#p = pyaudio.PyAudio()\n",
    "#for i in range(p.get_device_count()):\n",
    "#    dev = p.get_device_info_by_index(i)\n",
    "#    print((i,dev['name'],dev['maxInputChannels']))\n",
    "#\n",
    "#stream = p.open(output=True, channels=2, rate=RATE, format=pyaudio.paInt16, output_device_index=1)"
   ]
  },
  {
   "cell_type": "markdown",
   "metadata": {},
   "source": [
    "## Constants"
   ]
  },
  {
   "cell_type": "code",
   "execution_count": 5,
   "metadata": {
    "collapsed": true
   },
   "outputs": [],
   "source": [
    "RATE=44100"
   ]
  },
  {
   "cell_type": "code",
   "execution_count": 6,
   "metadata": {},
   "outputs": [],
   "source": [
    "stream = sd.OutputStream(samplerate=RATE, dtype=int16, channels=2)\n",
    "stream.start()"
   ]
  },
  {
   "cell_type": "markdown",
   "metadata": {},
   "source": [
    "## Utilities"
   ]
  },
  {
   "cell_type": "code",
   "execution_count": 7,
   "metadata": {
    "collapsed": true
   },
   "outputs": [],
   "source": [
    "class Note(Enum):\n",
    "    C3 = 131\n",
    "    D3 = 147\n",
    "    E3 = 165\n",
    "    F3 = 175\n",
    "    G3 = 196\n",
    "    A4 = 220\n",
    "    B4 = 247\n",
    "    C4 = 262"
   ]
  },
  {
   "cell_type": "code",
   "execution_count": 8,
   "metadata": {
    "collapsed": true
   },
   "outputs": [],
   "source": [
    "def inspect_sound(sound_data):\n",
    "    df = pd.DataFrame(sound_data)\n",
    "    print(\"shape: \", df.shape)\n",
    "    print(\"head: \")\n",
    "    df.head(101).plot()\n",
    "    stream.write(df.values)"
   ]
  },
  {
   "cell_type": "markdown",
   "metadata": {},
   "source": [
    "## Signal Generators"
   ]
  },
  {
   "cell_type": "code",
   "execution_count": 349,
   "metadata": {
    "collapsed": true
   },
   "outputs": [],
   "source": [
    "def wave(frequency=Note.C3.value, length=1, amplitude=8000, phase=0, sample_rate=RATE, function=None, function_args=None):\n",
    "    time = linspace(0,length,length*sample_rate)\n",
    "    wavelength = 1/frequency\n",
    "    data = function(time, wavelength, amplitude, phase, function_args)\n",
    "    #data = data.astype(int16) # two byte integers\n",
    "    data = mono_to_stereo(data)\n",
    "    return data.astype(int16)"
   ]
  },
  {
   "cell_type": "code",
   "execution_count": 350,
   "metadata": {
    "collapsed": true
   },
   "outputs": [],
   "source": [
    "def sine_function(time, wavelength, amplitude, phase, function_args=None):\n",
    "    return amplitude * sin((2*pi*time - phase)/wavelength)"
   ]
  },
  {
   "cell_type": "code",
   "execution_count": 351,
   "metadata": {
    "collapsed": true
   },
   "outputs": [],
   "source": [
    "def square_function(time, wavelength, amplitude, phase, function_args=None):\n",
    "    return amplitude * sign(sin((2*pi*time - phase)/wavelength))"
   ]
  },
  {
   "cell_type": "code",
   "execution_count": 352,
   "metadata": {
    "collapsed": true
   },
   "outputs": [],
   "source": [
    "def triangle_function(time, wavelength, amplitude, phase, function_args=None):\n",
    "    return (2*amplitude/pi) * arcsin(sin((2*pi*time - phase)/wavelength))"
   ]
  },
  {
   "cell_type": "code",
   "execution_count": 353,
   "metadata": {
    "collapsed": true
   },
   "outputs": [],
   "source": [
    "def sawtooth_function(time, wavelength, amplitude, phase, function_args=None):\n",
    "    return (2*amplitude/pi) * arctan(tan((2*pi*time - phase)/(2*wavelength)))"
   ]
  },
  {
   "cell_type": "code",
   "execution_count": 354,
   "metadata": {
    "collapsed": true
   },
   "outputs": [],
   "source": [
    "def inverse_sawtooth_function(time, wavelength, amplitude, phase, function_args=None):\n",
    "    return (2*amplitude/pi) * arctan(tan((2*pi*time - phase)/(2*wavelength))) * -1"
   ]
  },
  {
   "cell_type": "code",
   "execution_count": 355,
   "metadata": {
    "collapsed": true
   },
   "outputs": [],
   "source": [
    "def pulse_function(time, wavelength, amplitude, phase, function_args):\n",
    "    pulse_width = function_args['pulse_width']\n",
    "    return amplitude * sign(sin((2*pi*time - phase)/wavelength)-(1-pulse_width))"
   ]
  },
  {
   "cell_type": "code",
   "execution_count": 356,
   "metadata": {
    "collapsed": true
   },
   "outputs": [],
   "source": [
    "def white_noise_function(time, wavelength, amplitude, phase, function_args):\n",
    "    return random.random(len(time))*amplitude"
   ]
  },
  {
   "cell_type": "code",
   "execution_count": 357,
   "metadata": {
    "collapsed": true
   },
   "outputs": [],
   "source": [
    "def silence(time, wavelength, amplitude, phase, function_args):\n",
    "    return zeros(len(time))"
   ]
  },
  {
   "cell_type": "code",
   "execution_count": 358,
   "metadata": {
    "collapsed": true
   },
   "outputs": [],
   "source": [
    "def identity(signal):\n",
    "    return signal"
   ]
  },
  {
   "cell_type": "code",
   "execution_count": 359,
   "metadata": {
    "collapsed": true
   },
   "outputs": [],
   "source": [
    "def frequency_modulation_synthesizer(carrier=Note.C3.value, length=1, amplitude=5000, sample_rate=RATE, modulation_depth=0, modulation_frequency=0):\n",
    "    time = linspace(0,length,length*sample_rate)\n",
    "    signal = (amplitude*sin(2*pi*time*carrier + modulation_depth*sin(2*pi*time*modulation_frequency)))\n",
    "    signal = mono_to_stereo(signal)\n",
    "    return signal.astype(int16)"
   ]
  },
  {
   "cell_type": "code",
   "execution_count": 360,
   "metadata": {
    "collapsed": true
   },
   "outputs": [],
   "source": [
    "def sampler(path):\n",
    "    sample = wavfile.read(path)[1]\n",
    "    if sample.ndim == 1:\n",
    "        return mono_to_stereo(sample).astype(int16)\n",
    "    elif sample.ndim == 2:\n",
    "        return sample.astype(int16)\n",
    "    else:\n",
    "        raise ValueError('Sound has too many dimensions.  Only mono (_, 1) and stereo (_, 2) are supported.')"
   ]
  },
  {
   "cell_type": "markdown",
   "metadata": {},
   "source": [
    "## Plugins"
   ]
  },
  {
   "cell_type": "code",
   "execution_count": 361,
   "metadata": {
    "collapsed": true
   },
   "outputs": [],
   "source": [
    "def linear_asdr_envelope(sound, attack, decay, sustain, release):\n",
    "    if sound.ndim == 1:\n",
    "        return linear_asdr_envelope_mono(sound, attack, decay, sustain, release)\n",
    "    elif sound.ndim == 2:\n",
    "        return linear_asdr_envelope_stereo(sound, attack, decay, sustain, release)\n",
    "    else:\n",
    "        raise ValueError('Sound has too many dimensions.  Only mono (_, 1) and stereo (_, 2) are supported.')\n",
    "\n",
    "def linear_asdr_envelope_mono(sound, attack, decay, sustain, release):\n",
    "    peak = sound.max()\n",
    "    a = linspace(0,1,RATE*attack)\n",
    "    d = linspace(1,sustain,RATE*decay)\n",
    "    s = linspace(sustain,sustain,len(sound)-(RATE*(attack+decay+release)))\n",
    "    r = linspace(sustain,0,RATE*release)\n",
    "    envelope = append(append(a,d),append(s,r))\n",
    "    return multiply(envelope,sound).astype(int16)\n",
    "\n",
    "def linear_asdr_envelope_stereo(sound, attack, decay, sustain, release):\n",
    "    peak = sound.max()\n",
    "    a = linspace(0,1,RATE*attack)\n",
    "    d = linspace(1,sustain,RATE*decay)\n",
    "    s = linspace(sustain,sustain,len(sound)-(RATE*(attack+decay+release)))        \n",
    "    r = linspace(sustain,0,RATE*release)\n",
    "    envelope = append(append(a,d),append(s,r))\n",
    "    envelope = mono_to_stereo(envelope)\n",
    "    return multiply(envelope,sound).astype(int16)"
   ]
  },
  {
   "cell_type": "code",
   "execution_count": 362,
   "metadata": {},
   "outputs": [],
   "source": [
    "def time_warp(sound, coefficient):\n",
    "    if sound.ndim == 1:\n",
    "        return time_warp_mono(sound, coefficient)\n",
    "    elif sound.ndim == 2:\n",
    "        return time_warp_stereo(sound, coefficient)\n",
    "    else:\n",
    "        raise ValueError('Sound has too many dimensions.  Only mono (_, 1) and stereo (_, 2) are supported.')\n",
    "\n",
    "def time_warp_mono(sound, coefficient):\n",
    "    if coefficient >= 1:\n",
    "        return repeat(sound, coefficient)\n",
    "    else:\n",
    "        slicer = int(1 / coefficient)\n",
    "        return sound[0::slicer].astype(int16)\n",
    "\n",
    "def time_warp_stereo(sound, coefficient):\n",
    "    if coefficient >= 1:\n",
    "        return repeat(sound, coefficient, axis=0)\n",
    "    else:\n",
    "        slicer = int(1 / coefficient)\n",
    "        return sound[0::slicer].astype(int16)"
   ]
  },
  {
   "cell_type": "code",
   "execution_count": 363,
   "metadata": {
    "collapsed": true
   },
   "outputs": [],
   "source": [
    "def lfo(sound, frequency, amount=1, wave_function=sine_function, wave_function_args={}):\n",
    "    lfo = wave(function=wave_function, frequency=frequency, length=int(len(sound)/RATE), function_args=wave_function_args)\n",
    "    lfo = add(lfo, lfo.max()) # shift lfo to positive\n",
    "    lfo = divide(lfo,lfo.max()) # Make lfo range 0 to 1\n",
    "    lfo = multiply(lfo,amount) # scale lfo by amount\n",
    "    lfo = add(lfo, (1-amount)) # shift lfo up so peak is at 1 and min is (1-amount)\n",
    "    return multiply(lfo,sound).astype(int16)"
   ]
  },
  {
   "cell_type": "code",
   "execution_count": 365,
   "metadata": {
    "collapsed": true
   },
   "outputs": [],
   "source": [
    "def arpeggiator(sound, step_size, frequency):\n",
    "    return lfo(sound, frequency=frequency, wave_function=pulse_function, wave_function_args={'pulse_width':step_size}).astype(int16)"
   ]
  },
  {
   "cell_type": "code",
   "execution_count": 366,
   "metadata": {
    "collapsed": true
   },
   "outputs": [],
   "source": [
    "def distortion(sound, amount):\n",
    "    sound = multiply(sound, amount)\n",
    "    amount = 1 / amount\n",
    "    return clip(sound, int(sound.min()*amount), int(sound.max()*amount)).astype(int16)"
   ]
  },
  {
   "cell_type": "code",
   "execution_count": 367,
   "metadata": {
    "collapsed": true
   },
   "outputs": [],
   "source": [
    "def utility(sound, amount):\n",
    "    return multiply(sound, amount).astype(int16)"
   ]
  },
  {
   "cell_type": "code",
   "execution_count": 368,
   "metadata": {
    "collapsed": true
   },
   "outputs": [],
   "source": [
    "def limiter(signal, amount):\n",
    "    signs = sign(signal)\n",
    "    return multiply(minimum(abs(signal),signal.max() * amount), signs).astype(int16)"
   ]
  },
  {
   "cell_type": "code",
   "execution_count": 369,
   "metadata": {
    "collapsed": true
   },
   "outputs": [],
   "source": [
    "def offset(sound, length=0):\n",
    "    shift_amount = int(min(abs(length*RATE), len(sound)))\n",
    "    shifted = zeros(sound.shape)\n",
    "    if length >=0:\n",
    "        shifted[shift_amount:] = sound[0:len(sound)-shift_amount]\n",
    "    else:\n",
    "        shifted[0:shift_amount] = sound[len(sound) - shift_amount:]\n",
    "    return shifted.astype(int16)"
   ]
  },
  {
   "cell_type": "code",
   "execution_count": 370,
   "metadata": {
    "collapsed": true
   },
   "outputs": [],
   "source": [
    "def moving_average_low_pass_filter(sound, periods):\n",
    "    max_amplitude = sound.max()\n",
    "    cumulative = cumsum(sound)\n",
    "    cumulative[periods:] = cumulative[periods:] - cumulative[:-periods]\n",
    "    unadjusted = cumulative[periods - 1:] / periods\n",
    "    louder = (max_amplitude / unadjusted.max()) * unadjusted\n",
    "    return (louder).astype(int16)"
   ]
  },
  {
   "cell_type": "code",
   "execution_count": 371,
   "metadata": {
    "collapsed": true
   },
   "outputs": [],
   "source": [
    "def stft_low_pass_filter(sound, cutoff, amount=0):\n",
    "    f, t, Zxx = stft(sound)\n",
    "    for i,x in enumerate(Zxx.real):\n",
    "        if i > cutoff:\n",
    "            Zxx[i] = multiply(Zxx[i],zeros(x.shape)+amount)\n",
    "    return istft(Zxx)[1].astype(int16)"
   ]
  },
  {
   "cell_type": "code",
   "execution_count": 372,
   "metadata": {
    "collapsed": true
   },
   "outputs": [],
   "source": [
    "def stft_high_pass_filter(sound, cutoff, amount=0):\n",
    "    f, t, Zxx = stft(sound)\n",
    "    for i,x in enumerate(Zxx.real):\n",
    "        if i < cutoff:\n",
    "            Zxx[i] = multiply(Zxx[i],zeros(x.shape)+amount)\n",
    "    return istft(Zxx)[1].astype(int16)"
   ]
  },
  {
   "cell_type": "code",
   "execution_count": 373,
   "metadata": {
    "collapsed": true
   },
   "outputs": [],
   "source": [
    "def stft_band_pass_filter(sound, cutoff_lo, cutoff_hi, amount=0):\n",
    "    f, t, Zxx = stft(sound)\n",
    "    for i,x in enumerate(Zxx.real):\n",
    "        if i < cutoff_lo or i > cutoff_hi:\n",
    "            Zxx[i] = multiply(Zxx[i],zeros(x.shape)+amount)\n",
    "    return istft(Zxx)[1].astype(int16)"
   ]
  },
  {
   "cell_type": "code",
   "execution_count": 374,
   "metadata": {
    "collapsed": true
   },
   "outputs": [],
   "source": [
    "def add_waves(sound1, sound2):\n",
    "    if len(sound1) < len(sound2):\n",
    "        combined = sound2.copy()\n",
    "        combined[:len(sound1)] += sound1\n",
    "    else:\n",
    "        combined = sound1.copy()\n",
    "        combined[:len(sound2)] += sound2\n",
    "    return combined.astype(int16)"
   ]
  },
  {
   "cell_type": "code",
   "execution_count": 375,
   "metadata": {
    "collapsed": true
   },
   "outputs": [],
   "source": [
    "def fade_out(sound, amount=None, fade_function=linspace):\n",
    "    if sound.ndim == 1:\n",
    "        return fade_out_mono(sound, amount=amount, fade_function=fade_function)\n",
    "    elif sound.ndim == 2:\n",
    "        return fade_out_stereo(sound, amount=amount, fade_function=fade_function)\n",
    "    else:\n",
    "        raise ValueError('Sound has too many dimensions.  Only mono (_, 1) and stereo (_, 2) are supported.')\n",
    "\n",
    "def fade_out_mono(sound, amount=None, fade_function=linspace):\n",
    "    if amount is None:\n",
    "        fade_length = 10\n",
    "    else:\n",
    "        fade_length = len(sound) * amount\n",
    "    fade_length = min(fade_length, len(sound))\n",
    "    fade_length = int(fade_length)\n",
    "    fade_amount = linspace(1,0,fade_length)\n",
    "    padding = add(zeros(len(sound) - fade_length),1)\n",
    "    fade_amount = concatenate((padding, fade_amount))\n",
    "    return multiply(sound, fade_amount).astype(int16)\n",
    "\n",
    "def fade_out_stereo(sound, amount=None, fade_function=linspace):\n",
    "    if amount is None:\n",
    "        fade_length = 10\n",
    "    else:\n",
    "        fade_length = len(sound) * amount\n",
    "    fade_length = min(fade_length, len(sound))\n",
    "    fade_length = int(fade_length)\n",
    "    fade_amount = linspace(1,0,fade_length)\n",
    "    fade_amount = mono_to_stereo(fade_amount)\n",
    "    padding = add(zeros(len(sound) - fade_length),1)\n",
    "    padding = mono_to_stereo(padding)\n",
    "    fade_amount = concatenate((padding, fade_amount))\n",
    "    return multiply(sound, fade_amount).astype(int16)"
   ]
  },
  {
   "cell_type": "code",
   "execution_count": 376,
   "metadata": {
    "collapsed": true
   },
   "outputs": [],
   "source": [
    "def fade_in(sound, amount=None, fade_function=linspace):\n",
    "    if sound.ndim == 1:\n",
    "        return fade_in_mono(sound, amount=amount, fade_function=fade_function)\n",
    "    elif sound.ndim == 2:\n",
    "        return fade_in_stereo(sound, amount=amount, fade_function=fade_function)\n",
    "    else:\n",
    "        raise ValueError('Sound has too many dimensions.  Only mono (_, 1) and stereo (_, 2) are supported.')\n",
    "\n",
    "def fade_in_mono(sound, amount=None, fade_function=linspace):\n",
    "    if amount is None:\n",
    "        fade_length = 10\n",
    "    else:\n",
    "        fade_length = len(sound) * amount\n",
    "    fade_length = min(fade_length, len(sound))\n",
    "    fade_length = int(fade_length)\n",
    "    fade_amount = linspace(0,1,fade_length)\n",
    "    padding = add(zeros(len(sound) - fade_length),1)\n",
    "    fade_amount = concatenate((fade_amount,padding))\n",
    "    return multiply(sound, fade_amount).astype(int16)\n",
    "\n",
    "def fade_in_stereo(sound, amount=None, fade_function=linspace):\n",
    "    if amount is None:\n",
    "        fade_length = 10\n",
    "    else:\n",
    "        fade_length = len(sound) * amount\n",
    "    fade_length = min(fade_length, len(sound))\n",
    "    fade_length = int(fade_length)\n",
    "    fade_amount = linspace(0,1,fade_length)\n",
    "    fade_amount = mono_to_stereo(fade_amount)\n",
    "    padding = add(zeros(len(sound) - fade_length),1)\n",
    "    padding = mono_to_stereo(padding)\n",
    "    fade_amount = concatenate((fade_amount,padding))\n",
    "    return multiply(sound, fade_amount).astype(int16)"
   ]
  },
  {
   "cell_type": "code",
   "execution_count": 394,
   "metadata": {
    "collapsed": true
   },
   "outputs": [],
   "source": [
    "def fade(sound, amount=None, fade_function=linspace):\n",
    "    return (fade_out(fade_in(sound, amount=amount, fade_function=fade_function),amount=amount, fade_function=fade_function)).astype(int16)"
   ]
  },
  {
   "cell_type": "code",
   "execution_count": 378,
   "metadata": {
    "collapsed": true
   },
   "outputs": [],
   "source": [
    "def mono_to_stereo(sound):\n",
    "    return ascontiguousarray(transpose(vstack((sound,sound))))"
   ]
  },
  {
   "cell_type": "code",
   "execution_count": 418,
   "metadata": {
    "collapsed": true
   },
   "outputs": [],
   "source": [
    "def pad(sound, length):\n",
    "    length *= RATE\n",
    "    length = int(length)\n",
    "    if len(sound) == length:\n",
    "        return sound\n",
    "    elif len(sound) > length:\n",
    "        return sound[:length]\n",
    "    else:\n",
    "        remaining = length - len(sound)\n",
    "        return concatenate((sound, mono_to_stereo(zeros(remaining)))).astype(int16)"
   ]
  },
  {
   "cell_type": "code",
   "execution_count": 380,
   "metadata": {
    "collapsed": true
   },
   "outputs": [],
   "source": [
    "def balance(sound, l_r_balance=0.5):\n",
    "    if l_r_balance > 1:\n",
    "        l_r_balance = 1\n",
    "    elif l_r_balance < 0:\n",
    "        l_r_balance = 0\n",
    "    \n",
    "    if sound.ndim == 1:\n",
    "        return balance_mono(sound, l_r_balance)\n",
    "    elif sound.ndim == 2:\n",
    "        return balance_stereo(sound, l_r_balance)\n",
    "    else:\n",
    "        raise ValueError('Sound has too many dimensions.  Only mono (_, 1) and stereo (_, 2) are supported.')\n",
    "\n",
    "def balance_mono(sound, l_r_balance):\n",
    "    return sound\n",
    "\n",
    "def balance_stereo(sound, l_r_balance):\n",
    "    sound = copy(sound) # making function pure by not mutating original sound\n",
    "    l_r_balance *= 2\n",
    "    l_balance = 2 - l_r_balance\n",
    "    r_balance = l_r_balance\n",
    "    sound[:,0] = multiply(sound[:,0],l_balance)\n",
    "    sound[:,1] = multiply(sound[:,1],r_balance)\n",
    "    return sound.astype(int16)"
   ]
  },
  {
   "cell_type": "markdown",
   "metadata": {},
   "source": [
    "## Instruments"
   ]
  },
  {
   "cell_type": "code",
   "execution_count": 403,
   "metadata": {
    "scrolled": true
   },
   "outputs": [
    {
     "name": "stderr",
     "output_type": "stream",
     "text": [
      "D:\\Users\\Pat\\Anaconda3\\lib\\site-packages\\ipykernel_launcher.py:2: DeprecationWarning: object of type <class 'float'> cannot be safely interpreted as an integer.\n",
      "  \n",
      "D:\\Users\\Pat\\Anaconda3\\lib\\site-packages\\ipykernel_launcher.py:21: DeprecationWarning: object of type <class 'float'> cannot be safely interpreted as an integer.\n",
      "D:\\Users\\Pat\\Anaconda3\\lib\\site-packages\\ipykernel_launcher.py:22: DeprecationWarning: object of type <class 'float'> cannot be safely interpreted as an integer.\n"
     ]
    },
    {
     "data": {
      "text/plain": [
       "False"
      ]
     },
     "execution_count": 403,
     "metadata": {},
     "output_type": "execute_result"
    }
   ],
   "source": [
    "kick_thump = wave(function=sine_function, length=0.5, frequency=Note.C3.value/2)\n",
    "kick_attack = linear_asdr_envelope(wave(function=white_noise_function, length=0.1, frequency=Note.C3.value*5),0,0.03,0,0)\n",
    "#kick = add_waves(kick_thump,kick_thump)\n",
    "kick = kick_thump\n",
    "stream.write(kick)"
   ]
  },
  {
   "cell_type": "code",
   "execution_count": 552,
   "metadata": {
    "scrolled": true
   },
   "outputs": [
    {
     "name": "stderr",
     "output_type": "stream",
     "text": [
      "D:\\Users\\Pat\\Anaconda3\\lib\\site-packages\\ipykernel_launcher.py:2: DeprecationWarning: object of type <class 'float'> cannot be safely interpreted as an integer.\n",
      "  \n",
      "D:\\Users\\Pat\\Anaconda3\\lib\\site-packages\\ipykernel_launcher.py:20: DeprecationWarning: object of type <class 'float'> cannot be safely interpreted as an integer.\n",
      "D:\\Users\\Pat\\Anaconda3\\lib\\site-packages\\ipykernel_launcher.py:21: DeprecationWarning: object of type <class 'float'> cannot be safely interpreted as an integer.\n",
      "D:\\Users\\Pat\\Anaconda3\\lib\\site-packages\\ipykernel_launcher.py:22: DeprecationWarning: object of type <class 'float'> cannot be safely interpreted as an integer.\n"
     ]
    },
    {
     "data": {
      "text/plain": [
       "False"
      ]
     },
     "execution_count": 552,
     "metadata": {},
     "output_type": "execute_result"
    }
   ],
   "source": [
    "kick_hi_thump = linear_asdr_envelope(wave(function=sine_function, length=0.75, frequency=Note.C3.value/5),0.1,0.5,0.2,0)\n",
    "kick_hi_attack = linear_asdr_envelope(wave(function=sine_function, length=0.5, frequency=Note.C3.value/2),0,0.2,0,0)\n",
    "kick_hi = add_waves(kick_hi_thump,kick_hi_attack)\n",
    "kick_hi = time_warp(kick_hi,0.4)\n",
    "stream.write(kick_hi)"
   ]
  },
  {
   "cell_type": "code",
   "execution_count": 397,
   "metadata": {
    "collapsed": true
   },
   "outputs": [],
   "source": [
    "rest = wave(function=silence, length=1)"
   ]
  },
  {
   "cell_type": "code",
   "execution_count": 504,
   "metadata": {},
   "outputs": [
    {
     "name": "stderr",
     "output_type": "stream",
     "text": [
      "D:\\Users\\Pat\\Anaconda3\\lib\\site-packages\\ipykernel_launcher.py:2: DeprecationWarning: object of type <class 'float'> cannot be safely interpreted as an integer.\n",
      "  \n",
      "D:\\Users\\Pat\\Anaconda3\\lib\\site-packages\\ipykernel_launcher.py:20: DeprecationWarning: object of type <class 'float'> cannot be safely interpreted as an integer.\n",
      "D:\\Users\\Pat\\Anaconda3\\lib\\site-packages\\ipykernel_launcher.py:21: DeprecationWarning: object of type <class 'float'> cannot be safely interpreted as an integer.\n",
      "D:\\Users\\Pat\\Anaconda3\\lib\\site-packages\\ipykernel_launcher.py:22: DeprecationWarning: object of type <class 'float'> cannot be safely interpreted as an integer.\n"
     ]
    },
    {
     "data": {
      "text/plain": [
       "False"
      ]
     },
     "execution_count": 504,
     "metadata": {},
     "output_type": "execute_result"
    }
   ],
   "source": [
    "snare_attack = wave(function=sawtooth_function, length=0.01, frequency=Note.C3.value)\n",
    "snare_sizzle = linear_asdr_envelope(wave(function=white_noise_function, length=1, frequency=Note.C3.value),0.2,0.5,0,0)\n",
    "snare_sizzle = utility(snare_sizzle, 0.5)\n",
    "snare_sizzle_2 = linear_asdr_envelope(wave(function=sine_function, length=1, frequency=Note.C3.value/4),0.01,0.5,0,0)\n",
    "snare = add_waves(snare_attack,snare_sizzle)\n",
    "snare = add_waves(snare, snare_sizzle_2)\n",
    "snare = time_warp(snare,0.15)\n",
    "stream.write(snare)"
   ]
  },
  {
   "cell_type": "code",
   "execution_count": 567,
   "metadata": {},
   "outputs": [
    {
     "name": "stderr",
     "output_type": "stream",
     "text": [
      "D:\\Users\\Pat\\Anaconda3\\lib\\site-packages\\ipykernel_launcher.py:21: DeprecationWarning: object of type <class 'float'> cannot be safely interpreted as an integer.\n",
      "D:\\Users\\Pat\\Anaconda3\\lib\\site-packages\\ipykernel_launcher.py:22: DeprecationWarning: object of type <class 'float'> cannot be safely interpreted as an integer.\n"
     ]
    },
    {
     "data": {
      "text/plain": [
       "False"
      ]
     },
     "execution_count": 567,
     "metadata": {},
     "output_type": "execute_result"
    }
   ],
   "source": [
    "hi_hat = linear_asdr_envelope(wave(function=white_noise_function, length=1, frequency=Note.C3.value),0,0.1,0.1,0)\n",
    "hi_hat = time_warp(hi_hat, 0.2)\n",
    "stream.write(hi_hat)"
   ]
  },
  {
   "cell_type": "markdown",
   "metadata": {},
   "source": [
    "## Workspace"
   ]
  },
  {
   "cell_type": "code",
   "execution_count": 821,
   "metadata": {},
   "outputs": [],
   "source": [
    "from numpy import setdiff1d,array\n",
    "from numpy.linalg import norm\n",
    "from scipy.optimize import minimize, differential_evolution\n",
    "from scipy.fftpack import fft"
   ]
  },
  {
   "cell_type": "code",
   "execution_count": 638,
   "metadata": {},
   "outputs": [],
   "source": [
    "SOUND = sampler(\"D:\\Pat\\projects\\programming\\music generation\\samples\\Galactica - C3 - 2.wav\")"
   ]
  },
  {
   "cell_type": "code",
   "execution_count": 684,
   "metadata": {
    "collapsed": true
   },
   "outputs": [],
   "source": [
    "def play_sound(d1, f1, d2, f2):\n",
    "    fm1 = frequency_modulation_synthesizer(length=1, modulation_depth=d1, modulation_frequency=f1)\n",
    "    fm2 = frequency_modulation_synthesizer(length=1, modulation_depth=d2, modulation_frequency=f2)\n",
    "    fm3 = add_waves(fm1, fm2)\n",
    "    return fm3"
   ]
  },
  {
   "cell_type": "code",
   "execution_count": 852,
   "metadata": {
    "collapsed": true
   },
   "outputs": [],
   "source": [
    "def sound_replication(x0):\n",
    "    d1 = x0[0]\n",
    "    d2 = x0[2]\n",
    "    f1 = x0[1]\n",
    "    f2 = x0[3]\n",
    "    fm1 = frequency_modulation_synthesizer(length=1, modulation_depth=d1, modulation_frequency=f1)\n",
    "    fm2 = frequency_modulation_synthesizer(length=1, modulation_depth=d2, modulation_frequency=f2)\n",
    "    fm3 = add_waves(fm1, fm2)\n",
    "    #s1 = stft(SOUND,nperseg=1000)[2]\n",
    "    #s2 = stft(fm3,nperseg=1000)[2]\n",
    "    fft_size = 5000\n",
    "    s1 = fft(SOUND, fft_size, axis=0)[:,0]\n",
    "    s2 = fft(fm3, fft_size, axis=0)[:,0]\n",
    "    return norm(subtract(s1,s2))\n",
    "    #return d1 - 0"
   ]
  },
  {
   "cell_type": "code",
   "execution_count": 845,
   "metadata": {
    "collapsed": true
   },
   "outputs": [],
   "source": [
    "x0 = array([10., 400., 5., 50.])\n",
    "bounds = [(0,30),(0, 500),(0,30),(0,500)]"
   ]
  },
  {
   "cell_type": "code",
   "execution_count": 853,
   "metadata": {
    "scrolled": false
   },
   "outputs": [
    {
     "name": "stdout",
     "output_type": "stream",
     "text": [
      "[   3.12973284   66.27546098    1.60632581  132.98170635]  vs  [  10.  400.    5.   50.]\n"
     ]
    }
   ],
   "source": [
    "#res = minimize(sound_replication, x0, bounds=bounds, method='SLSQP', options={'disp': True})\n",
    "res = differential_evolution(sound_replication, bounds=bounds)\n",
    "print(res.x, ' vs ', x0)"
   ]
  },
  {
   "cell_type": "code",
   "execution_count": 865,
   "metadata": {
    "scrolled": false
   },
   "outputs": [
    {
     "data": {
      "text/plain": [
       "False"
      ]
     },
     "execution_count": 865,
     "metadata": {},
     "output_type": "execute_result"
    }
   ],
   "source": [
    "stream.write(play_sound(res.x[0], res.x[1], res.x[2], res.x[3]))"
   ]
  },
  {
   "cell_type": "code",
   "execution_count": 866,
   "metadata": {},
   "outputs": [
    {
     "data": {
      "text/plain": [
       "False"
      ]
     },
     "execution_count": 866,
     "metadata": {},
     "output_type": "execute_result"
    }
   ],
   "source": [
    "stream.write(SOUND)"
   ]
  },
  {
   "cell_type": "code",
   "execution_count": 835,
   "metadata": {},
   "outputs": [
    {
     "data": {
      "text/plain": [
       "False"
      ]
     },
     "execution_count": 835,
     "metadata": {},
     "output_type": "execute_result"
    }
   ],
   "source": [
    "stream.write(play_sound(2.8, 134, 0.16, 4359))"
   ]
  },
  {
   "cell_type": "code",
   "execution_count": 823,
   "metadata": {},
   "outputs": [
    {
     "data": {
      "text/plain": [
       "False"
      ]
     },
     "execution_count": 823,
     "metadata": {},
     "output_type": "execute_result"
    }
   ],
   "source": [
    "stream.write(play_sound(x0[0],x0[1],x0[2],x0[3]))"
   ]
  },
  {
   "cell_type": "markdown",
   "metadata": {},
   "source": [
    "### -"
   ]
  },
  {
   "cell_type": "code",
   "execution_count": 817,
   "metadata": {
    "scrolled": true
   },
   "outputs": [
    {
     "data": {
      "text/plain": [
       "False"
      ]
     },
     "execution_count": 817,
     "metadata": {},
     "output_type": "execute_result"
    }
   ],
   "source": [
    "fm1 = frequency_modulation_synthesizer(length=1, modulation_depth=11, modulation_frequency=Note.C3.value/2)\n",
    "#fm1 = linear_asdr_envelope(fm1, 0.1, 0.25, 0.25, 0)\n",
    "fm3 = frequency_modulation_synthesizer(length=1, modulation_depth=5, modulation_frequency=Note.C3.value/4)\n",
    "#fm3 = linear_asdr_envelope(fm3, 0.2, 0.5, 0.5, 0)\n",
    "\n",
    "fm2 = add_waves(fm1, fm3)\n",
    "\n",
    "stream.write(fm2)\n",
    "#pd.DataFrame(fm2).head(1000).plot()"
   ]
  },
  {
   "cell_type": "code",
   "execution_count": 627,
   "metadata": {},
   "outputs": [
    {
     "data": {
      "text/plain": [
       "<matplotlib.axes._subplots.AxesSubplot at 0x1569fc6ab00>"
      ]
     },
     "execution_count": 627,
     "metadata": {},
     "output_type": "execute_result"
    },
    {
     "data": {
      "image/png": "[encoded data removed]",
      "text/plain": [
       "<matplotlib.figure.Figure at 0x1569fc75198>"
      ]
     },
     "metadata": {},
     "output_type": "display_data"
    }
   ],
   "source": [
    "amount = None\n",
    "a = pad(fade(kick_hi,amount=amount),0.25)\n",
    "b = pad(fade(hi_hat,amount=amount),0.25)\n",
    "c = pad(utility(fade(snare,amount=amount), 0.65),0.25) + a\n",
    "d = pad(fade(hi_hat,amount=amount),0.25)\n",
    "ftest2 = concatenate((a,b,c,d))\n",
    "pd.DataFrame(ftest2).plot()"
   ]
  },
  {
   "cell_type": "code",
   "execution_count": 628,
   "metadata": {},
   "outputs": [
    {
     "data": {
      "text/plain": [
       "False"
      ]
     },
     "execution_count": 628,
     "metadata": {},
     "output_type": "execute_result"
    }
   ],
   "source": [
    "stream.write(ftest2)"
   ]
  },
  {
   "cell_type": "markdown",
   "metadata": {},
   "source": [
    "#### -------------------------------------------------------------------------------------------------------------------------------------------------------------------------------------"
   ]
  },
  {
   "cell_type": "markdown",
   "metadata": {},
   "source": [
    "## Notes"
   ]
  },
  {
   "cell_type": "markdown",
   "metadata": {},
   "source": [
    "### TODO\n",
    "- Convert every function to handle both stereo and mono (originally designed for mono)\n",
    "\n",
    "- LFO (works on sounds but not samples?)\n",
    "- ADSR envelope\n",
    "- Filters (FFT?)\n",
    "- Arp (very simplistic right now.  Add a function to it for stepping up each note.  Pass Identity fun by default)\n",
    "- Sampler\n",
    "- How to change BPM?\n",
    "    - should it be during playback like changing the stream rate\n",
    "    - can I double every value in the array to make twice as long?\n",
    "- distortion\n",
    "- limiter\n",
    "- \"utility\"\n",
    "- fade in, fade out\n",
    "\n",
    "\n",
    "- Oscilator (wav combiners) or combining of synths.\n",
    "- mono to stereo and back\n",
    "- stereo spread\n",
    "- crossfade\n",
    "- reverb\n",
    "- delay\n",
    "- style transfer of samples (vocoder?)"
   ]
  },
  {
   "cell_type": "markdown",
   "metadata": {},
   "source": [
    "### HOW TO USE\n",
    "stream.write(wave(function=sine_function))\n",
    "\n",
    "stream.write(wave(function=square_function))\n",
    "\n",
    "stream.write(wave(function=triangle_function))\n",
    "\n",
    "stream.write(wave(function=sawtooth_function))\n",
    "\n",
    "stream.write(wave(function=pulse_function, function_args={'pulse_width':0.25}))\n",
    "\n",
    "stream.write(wave(function=white_noise_function))\n",
    "\n",
    "stream.write(linear_asdr_envelope(wave(function=square_function, length=6), 1, 1, 0.5, 1))\n",
    "\n",
    "stream.write(wave(function=sine_function, length=3, frequency=Note.C3.value, amplitude=5000)+wave(function=sine_function, length=3, frequency=Note.C3.value*2, amplitude=2000))\n",
    "\n",
    "stream.write(lfo(wave(function=sawtooth_function,length=9),frequency=3, amount=1))\n",
    "\n",
    "stream.write(distortion(wave(function=sawtooth_function), 10))\n",
    "\n",
    "stream.write(utility(wave(function=sawtooth_function, length=3), 2))\n",
    "\n",
    "stream.write(frequency_modulation_synthesizer(length=4, modulation_depth=20, modulation_frequency=Note.C3.value))\n",
    "\n",
    "stream.write(offest(wave(function=sine_function),0.5))\n",
    "\n",
    "stft_low_pass_filter(signal,3,0.25)\n",
    "\n",
    "limiter(sig,0.5)\n",
    "\n",
    "##### Sampler\n",
    "path = \"D:\\\\Pat\\\\projects\\\\programming\\\\Accent Removal\\\\Samples\\\\wavs\\\\samplewav.wav\"\n",
    "\n",
    "sampler(\"D:\\Pat\\projects\\programming\\Accent Removal\\Samples\\wavs\\samplewav.wav\")"
   ]
  },
  {
   "cell_type": "markdown",
   "metadata": {},
   "source": [
    "sig = frequency_modulation_synthesizer(length=1, modulation_depth=15, modulation_frequency=Note.C3.value+15)\n",
    "stream.write(limiter(sig,0.5))"
   ]
  },
  {
   "cell_type": "markdown",
   "metadata": {
    "collapsed": true
   },
   "source": [
    "saw_c = wave(function=sawtooth_function, length=1, frequency=Note.C3.value)\n",
    "saw_e = wave(function=sawtooth_function, length=1, frequency=Note.E3.value)\n",
    "saw_g = wave(function=sawtooth_function, length=1, frequency=Note.G3.value)\n",
    "saw_b = wave(function=sawtooth_function, length=1, frequency=Note.B4.value)\n",
    "rest = wave(function=silence, length=1)\n",
    "\n",
    "stream.write(saw_c)\n",
    "stream.write(saw_e)\n",
    "stream.write(saw_g)\n",
    "stream.write(saw_c)\n",
    "stream.write(saw_e)\n",
    "stream.write(saw_g)\n",
    "stream.write(saw_c)\n",
    "stream.write(saw_e)\n",
    "stream.write(saw_g)\n",
    "stream.write(saw_c)\n",
    "stream.write(saw_e)\n",
    "stream.write(saw_g)\n",
    "stream.write(rest)\n",
    "stream.write(saw_e)\n",
    "stream.write(saw_g)\n",
    "stream.write(saw_b)\n",
    "stream.write(saw_e)\n",
    "stream.write(saw_g)\n",
    "stream.write(saw_b)\n",
    "stream.write(saw_e)\n",
    "stream.write(saw_g)\n",
    "stream.write(saw_b)\n",
    "stream.write(saw_e)\n",
    "stream.write(saw_g)\n",
    "stream.write(saw_b)"
   ]
  }
 ],
 "metadata": {
  "kernelspec": {
   "display_name": "Python 3",
   "language": "python",
   "name": "python3"
  },
  "language_info": {
   "codemirror_mode": {
    "name": "ipython",
    "version": 3
   },
   "file_extension": ".py",
   "mimetype": "text/x-python",
   "name": "python",
   "nbconvert_exporter": "python",
   "pygments_lexer": "ipython3",
   "version": "3.6.1"
  }
 },
 "nbformat": 4,
 "nbformat_minor": 2
}
