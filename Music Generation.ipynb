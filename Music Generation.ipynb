{
 "cells": [
  {
   "cell_type": "markdown",
   "metadata": {},
   "source": [
    "# Music Generation"
   ]
  },
  {
   "cell_type": "code",
   "execution_count": 182,
   "metadata": {},
   "outputs": [],
   "source": [
    "import pyaudio\n",
    "import math\n",
    "from numpy import linspace,sin,pi,int16,rint,sign,arcsin,tan,arctan,cos,append,multiply,add,subtract,divide,repeat,random,clip,fft,zeros,cumsum,minimum\n",
    "import time\n",
    "import pandas as pd\n",
    "from enum import Enum\n",
    "from scipy.io import wavfile\n",
    "from scipy.signal import stft,istft"
   ]
  },
  {
   "cell_type": "code",
   "execution_count": 3,
   "metadata": {
    "collapsed": true
   },
   "outputs": [],
   "source": [
    "%matplotlib inline"
   ]
  },
  {
   "cell_type": "code",
   "execution_count": null,
   "metadata": {
    "collapsed": true
   },
   "outputs": [],
   "source": [
    "p = pyaudio.PyAudio()"
   ]
  },
  {
   "cell_type": "code",
   "execution_count": 5,
   "metadata": {},
   "outputs": [
    {
     "name": "stdout",
     "output_type": "stream",
     "text": [
      "(0, 'Microsoft Sound Mapper - Output', 0)\n",
      "(1, 'Headphones (High Definition Aud', 0)\n",
      "(2, 'BenQ BL3200 (NVIDIA High Defini', 0)\n",
      "(3, 'Speakers (2- HTC Vive)', 0)\n"
     ]
    }
   ],
   "source": [
    "for i in range(p.get_device_count()):\n",
    "  dev = p.get_device_info_by_index(i)\n",
    "  print((i,dev['name'],dev['maxInputChannels']))"
   ]
  },
  {
   "cell_type": "markdown",
   "metadata": {},
   "source": [
    "## Constants"
   ]
  },
  {
   "cell_type": "code",
   "execution_count": 206,
   "metadata": {
    "collapsed": true
   },
   "outputs": [],
   "source": [
    "RATE=44100"
   ]
  },
  {
   "cell_type": "markdown",
   "metadata": {},
   "source": [
    "## Utilities"
   ]
  },
  {
   "cell_type": "code",
   "execution_count": 7,
   "metadata": {
    "collapsed": true
   },
   "outputs": [],
   "source": [
    "class Note(Enum):\n",
    "    C3 = 131\n",
    "    D3 = 147\n",
    "    E3 = 165\n",
    "    F3 = 175\n",
    "    G3 = 196\n",
    "    A4 = 220\n",
    "    B4 = 247\n",
    "    C4 = 262"
   ]
  },
  {
   "cell_type": "code",
   "execution_count": 8,
   "metadata": {
    "collapsed": true
   },
   "outputs": [],
   "source": [
    "def inspect_sound(sound_data):\n",
    "    df = pd.DataFrame(sound_data)\n",
    "    print(\"shape: \", df.shape)\n",
    "    print(\"head: \")\n",
    "    df.head(101).plot()\n",
    "    stream.write(df.values)"
   ]
  },
  {
   "cell_type": "markdown",
   "metadata": {},
   "source": [
    "## Signal Generators"
   ]
  },
  {
   "cell_type": "code",
   "execution_count": 9,
   "metadata": {
    "collapsed": true
   },
   "outputs": [],
   "source": [
    "def wave(frequency=Note.C3.value, length=1, amplitude=5000, phase=0, sample_rate=RATE, function=None, function_args=None):\n",
    "    time = linspace(0,length,length*sample_rate)\n",
    "    wavelength = 1/frequency\n",
    "    data = function(time, wavelength, amplitude, phase, function_args)\n",
    "    return data.astype(int16) # two byte integers"
   ]
  },
  {
   "cell_type": "code",
   "execution_count": 10,
   "metadata": {
    "collapsed": true
   },
   "outputs": [],
   "source": [
    "def sine_function(time, wavelength, amplitude, phase, function_args=None):\n",
    "    return amplitude * sin((2*pi*time - phase)/wavelength)"
   ]
  },
  {
   "cell_type": "code",
   "execution_count": 11,
   "metadata": {
    "collapsed": true
   },
   "outputs": [],
   "source": [
    "def square_function(time, wavelength, amplitude, phase, function_args=None):\n",
    "    return amplitude * sign(sin((2*pi*time - phase)/wavelength))"
   ]
  },
  {
   "cell_type": "code",
   "execution_count": 12,
   "metadata": {
    "collapsed": true
   },
   "outputs": [],
   "source": [
    "def triangle_function(time, wavelength, amplitude, phase, function_args=None):\n",
    "    return (2*amplitude/pi) * arcsin(sin((2*pi*time - phase)/wavelength))"
   ]
  },
  {
   "cell_type": "code",
   "execution_count": 13,
   "metadata": {
    "collapsed": true
   },
   "outputs": [],
   "source": [
    "def sawtooth_function(time, wavelength, amplitude, phase, function_args=None):\n",
    "    return (2*amplitude/pi) * arctan(tan((2*pi*time - phase)/(2*wavelength)))"
   ]
  },
  {
   "cell_type": "code",
   "execution_count": 14,
   "metadata": {
    "collapsed": true
   },
   "outputs": [],
   "source": [
    "def pulse_function(time, wavelength, amplitude, phase, function_args):\n",
    "    pulse_width = function_args['pulse_width']\n",
    "    return amplitude * sign(sin((2*pi*time - phase)/wavelength)-(1-pulse_width))"
   ]
  },
  {
   "cell_type": "code",
   "execution_count": 15,
   "metadata": {
    "collapsed": true
   },
   "outputs": [],
   "source": [
    "def white_noise_function(time, wavelength, amplitude, phase, function_args):\n",
    "    return random.random(len(time))*amplitude"
   ]
  },
  {
   "cell_type": "code",
   "execution_count": 210,
   "metadata": {
    "collapsed": true
   },
   "outputs": [],
   "source": [
    "def silence(time, wavelength, amplitude, phase, function_args):\n",
    "    return zeros(len(time))"
   ]
  },
  {
   "cell_type": "code",
   "execution_count": 170,
   "metadata": {
    "collapsed": true
   },
   "outputs": [],
   "source": [
    "def identity(signal):\n",
    "    return signal"
   ]
  },
  {
   "cell_type": "code",
   "execution_count": 22,
   "metadata": {
    "collapsed": true
   },
   "outputs": [],
   "source": [
    "def frequency_modulation_synthesizer(carrier=Note.C3.value, length=1, amplitude=5000, sample_rate=RATE, modulation_depth=0, modulation_frequency=0):\n",
    "    time = linspace(0,length,length*sample_rate)\n",
    "    return (amplitude*sin(2*pi*time*carrier + modulation_depth*sin(2*pi*time*modulation_frequency))).astype(int16)"
   ]
  },
  {
   "cell_type": "markdown",
   "metadata": {},
   "source": [
    "## Plugins"
   ]
  },
  {
   "cell_type": "code",
   "execution_count": 16,
   "metadata": {
    "collapsed": true
   },
   "outputs": [],
   "source": [
    "def linear_asdr_envelope(sound, attack, decay, sustain, release):\n",
    "    peak = sound.max()\n",
    "    a = linspace(0,1,RATE*attack)\n",
    "    d = linspace(1,sustain,RATE*decay)\n",
    "    s = linspace(sustain,sustain,len(sound)-(RATE*(attack+decay+release)))\n",
    "    r = linspace(sustain,0,RATE*release)\n",
    "    envelope = append(append(a,d),append(s,r))\n",
    "    return multiply(envelope,sound).astype(int16)"
   ]
  },
  {
   "cell_type": "code",
   "execution_count": 17,
   "metadata": {
    "collapsed": true
   },
   "outputs": [],
   "source": [
    "def time_warp(sound, coefficient):\n",
    "    if coefficient >= 1:\n",
    "        return repeat(sound, coefficient)\n",
    "    else:\n",
    "        slicer = int(1 / coefficient)\n",
    "        return sound[0::slicer].astype(int16)"
   ]
  },
  {
   "cell_type": "code",
   "execution_count": 18,
   "metadata": {
    "collapsed": true
   },
   "outputs": [],
   "source": [
    "def lfo(sound, frequency, amount=1, wave_function=sine_function, wave_function_args={}):\n",
    "    lfo = wave(function=wave_function, frequency=frequency, length=int(len(sound)/RATE), function_args=wave_function_args)\n",
    "    lfo = add(lfo, lfo.max()) # shift lfo to positive\n",
    "    lfo = divide(lfo,lfo.max()) # Make lfo range 0 to 1\n",
    "    lfo = multiply(lfo,amount) # scale lfo by amount\n",
    "    lfo = add(lfo, (1-amount)) # shift lfo up so peak is at 1 and min is (1-amount)\n",
    "    return multiply(lfo,sound).astype(int16)"
   ]
  },
  {
   "cell_type": "code",
   "execution_count": 171,
   "metadata": {
    "collapsed": true
   },
   "outputs": [],
   "source": [
    "def arpeggiator(sound, step_size, frequency):\n",
    "    return lfo(sound, frequency=frequency, wave_function=pulse_function, wave_function_args={'pulse_width':step_size})"
   ]
  },
  {
   "cell_type": "code",
   "execution_count": 20,
   "metadata": {
    "collapsed": true
   },
   "outputs": [],
   "source": [
    "def distortion(sound, amount):\n",
    "    sound = multiply(sound, amount)\n",
    "    amount = 1 / amount\n",
    "    return clip(sound, int(sound.min()*amount), int(sound.max()*amount)).astype(int16)"
   ]
  },
  {
   "cell_type": "code",
   "execution_count": 21,
   "metadata": {
    "collapsed": true
   },
   "outputs": [],
   "source": [
    "def utility(sound, amount):\n",
    "    return multiply(sound, amount).astype(int16)"
   ]
  },
  {
   "cell_type": "code",
   "execution_count": 196,
   "metadata": {
    "collapsed": true
   },
   "outputs": [],
   "source": [
    "def limiter(signal, amount):\n",
    "    signs = sign(signal)\n",
    "    return multiply(minimum(abs(signal),signal.max() * amount), signs).astype(int16)"
   ]
  },
  {
   "cell_type": "code",
   "execution_count": 23,
   "metadata": {
    "collapsed": true
   },
   "outputs": [],
   "source": [
    "def offset(sound, length=0):\n",
    "    shift_amount = int(min(abs(length*RATE), len(sound)))\n",
    "    shifted = zeros(sound.shape)\n",
    "    if length >=0:\n",
    "        shifted[shift_amount:] = sound[0:len(sound)-shift_amount]\n",
    "    else:\n",
    "        shifted[0:shift_amount] = sound[len(sound) - shift_amount:]\n",
    "    return shifted.astype(int16)"
   ]
  },
  {
   "cell_type": "code",
   "execution_count": 25,
   "metadata": {
    "collapsed": true
   },
   "outputs": [],
   "source": [
    "def moving_average_low_pass_filter(sound, periods):\n",
    "    max_amplitude = sound.max()\n",
    "    cumulative = cumsum(sound)\n",
    "    cumulative[periods:] = cumulative[periods:] - cumulative[:-periods]\n",
    "    unadjusted = cumulative[periods - 1:] / periods\n",
    "    louder = (max_amplitude / unadjusted.max()) * unadjusted\n",
    "    return (louder).astype(int16)"
   ]
  },
  {
   "cell_type": "code",
   "execution_count": 133,
   "metadata": {
    "collapsed": true
   },
   "outputs": [],
   "source": [
    "def stft_low_pass_filter(sound, cutoff, amount=0):\n",
    "    f, t, Zxx = stft(sound)\n",
    "    for i,x in enumerate(Zxx.real):\n",
    "        if i > cutoff:\n",
    "            Zxx[i] = multiply(Zxx[i],zeros(x.shape)+amount)\n",
    "    return istft(Zxx)[1].astype(int16)"
   ]
  },
  {
   "cell_type": "code",
   "execution_count": 135,
   "metadata": {
    "collapsed": true
   },
   "outputs": [],
   "source": [
    "def stft_high_pass_filter(sound, cutoff, amount=0):\n",
    "    f, t, Zxx = stft(sound)\n",
    "    for i,x in enumerate(Zxx.real):\n",
    "        if i < cutoff:\n",
    "            Zxx[i] = multiply(Zxx[i],zeros(x.shape)+amount)\n",
    "    return istft(Zxx)[1].astype(int16)"
   ]
  },
  {
   "cell_type": "code",
   "execution_count": 136,
   "metadata": {
    "collapsed": true
   },
   "outputs": [],
   "source": [
    "def stft_band_pass_filter(sound, cutoff_lo, cutoff_hi, amount=0):\n",
    "    f, t, Zxx = stft(sound)\n",
    "    for i,x in enumerate(Zxx.real):\n",
    "        if i < cutoff_lo or i > cutoff_hi:\n",
    "            Zxx[i] = multiply(Zxx[i],zeros(x.shape)+amount)\n",
    "    return istft(Zxx)[1].astype(int16)"
   ]
  },
  {
   "cell_type": "markdown",
   "metadata": {},
   "source": [
    "## Workspace"
   ]
  },
  {
   "cell_type": "code",
   "execution_count": 207,
   "metadata": {
    "collapsed": true
   },
   "outputs": [],
   "source": [
    "stream = p.open(output=True, channels=2, rate=RATE, format=pyaudio.paInt16, output_device_index=1)"
   ]
  },
  {
   "cell_type": "code",
   "execution_count": 208,
   "metadata": {},
   "outputs": [],
   "source": [
    "sig = frequency_modulation_synthesizer(length=1, modulation_depth=15, modulation_frequency=Note.C3.value+15)\n",
    "stream.write(limiter(sig,0.5))"
   ]
  },
  {
   "cell_type": "code",
   "execution_count": 211,
   "metadata": {
    "collapsed": true
   },
   "outputs": [],
   "source": [
    "saw_c = wave(function=sawtooth_function, length=1, frequency=Note.C3.value)\n",
    "saw_e = wave(function=sawtooth_function, length=1, frequency=Note.E3.value)\n",
    "saw_g = wave(function=sawtooth_function, length=1, frequency=Note.G3.value)\n",
    "saw_b = wave(function=sawtooth_function, length=1, frequency=Note.B4.value)\n",
    "rest = wave(function=silence, length=1)\n",
    "\n",
    "stream.write(saw_c)\n",
    "stream.write(saw_e)\n",
    "stream.write(saw_g)\n",
    "stream.write(saw_c)\n",
    "stream.write(saw_e)\n",
    "stream.write(saw_g)\n",
    "stream.write(saw_c)\n",
    "stream.write(saw_e)\n",
    "stream.write(saw_g)\n",
    "stream.write(saw_c)\n",
    "stream.write(saw_e)\n",
    "stream.write(saw_g)\n",
    "stream.write(rest)\n",
    "stream.write(saw_e)\n",
    "stream.write(saw_g)\n",
    "stream.write(saw_b)\n",
    "stream.write(saw_e)\n",
    "stream.write(saw_g)\n",
    "stream.write(saw_b)\n",
    "stream.write(saw_e)\n",
    "stream.write(saw_g)\n",
    "stream.write(saw_b)\n",
    "stream.write(saw_e)\n",
    "stream.write(saw_g)\n",
    "stream.write(saw_b)"
   ]
  },
  {
   "cell_type": "markdown",
   "metadata": {},
   "source": [
    "#### -------------------------------------------------------------------------------------------------------------------------------------------------------------------------------------"
   ]
  },
  {
   "cell_type": "markdown",
   "metadata": {},
   "source": [
    "## Notes"
   ]
  },
  {
   "cell_type": "markdown",
   "metadata": {},
   "source": [
    "### TODO\n",
    "- LFO (works on sounds but not samples?)\n",
    "- ADSR envelope\n",
    "- Filters (FFT?)\n",
    "- Arp (very simplistic right now.  Add a function to it for stepping up each note.  Pass Identity fun by default)\n",
    "- Sampler\n",
    "- How to change BPM?\n",
    "    - should it be during playback like changing the stream rate\n",
    "    - can I double every value in the array to make twice as long?\n",
    "- distortion\n",
    "- limiter\n",
    "- \"utility\"\n",
    "\n",
    "\n",
    "- Oscilator (wav combiners) or combining of synths\n",
    "- reverb\n",
    "- delay\n",
    "- style transfer of samples (vocoder?)"
   ]
  },
  {
   "cell_type": "markdown",
   "metadata": {},
   "source": [
    "### HOW TO USE\n",
    "stream.write(wave(function=sine_function))\n",
    "\n",
    "stream.write(wave(function=square_function))\n",
    "\n",
    "stream.write(wave(function=triangle_function))\n",
    "\n",
    "stream.write(wave(function=sawtooth_function))\n",
    "\n",
    "stream.write(wave(function=pulse_function, function_args={'pulse_width':0.25}))\n",
    "\n",
    "stream.write(wave(function=white_noise_function))\n",
    "\n",
    "stream.write(linear_asdr_envelope(wave(function=square_function, length=6), 1, 1, 0.5, 1))\n",
    "\n",
    "stream.write(wave(function=sine_function, length=3, frequency=Note.C3.value, amplitude=5000)+wave(function=sine_function, length=3, frequency=Note.C3.value*2, amplitude=2000))\n",
    "\n",
    "stream.write(lfo(wave(function=sawtooth_function,length=9),frequency=3, amount=1))\n",
    "\n",
    "stream.write(distortion(wave(function=sawtooth_function), 10))\n",
    "\n",
    "stream.write(utility(wave(function=sawtooth_function, length=3), 2))\n",
    "\n",
    "stream.write(frequency_modulation_synthesizer(length=4, modulation_depth=20, modulation_frequency=Note.C3.value))\n",
    "\n",
    "stream.write(offest(wave(function=sine_function),0.5))\n",
    "\n",
    "stft_low_pass_filter(signal,3,0.25)\n",
    "\n",
    "limiter(sig,0.5)\n",
    "\n",
    "##### Sampler\n",
    "path = \"D:\\\\Pat\\\\projects\\\\programming\\\\Accent Removal\\\\Samples\\\\wavs\\\\samplewav.wav\"\n",
    "\n",
    "stream.write(wavfile.read(path)[1])"
   ]
  }
 ],
 "metadata": {
  "kernelspec": {
   "display_name": "Python 3",
   "language": "python",
   "name": "python3"
  },
  "language_info": {
   "codemirror_mode": {
    "name": "ipython",
    "version": 3
   },
   "file_extension": ".py",
   "mimetype": "text/x-python",
   "name": "python",
   "nbconvert_exporter": "python",
   "pygments_lexer": "ipython3",
   "version": "3.6.1"
  }
 },
 "nbformat": 4,
 "nbformat_minor": 2
}
